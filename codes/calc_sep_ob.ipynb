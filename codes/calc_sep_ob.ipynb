{
 "cells": [
  {
   "cell_type": "markdown",
   "metadata": {},
   "source": [
    "# Import Packages"
   ]
  },
  {
   "cell_type": "code",
   "execution_count": 1,
   "metadata": {},
   "outputs": [],
   "source": [
    "import sys, os, pdb, glob\n",
    "import numpy as np\n",
    "from astropy import constants as const\n",
    "from astropy import units as u\n",
    "from astropy.coordinates import SkyCoord\n",
    "from decimal import Decimal, ROUND_UP\n",
    "from astropy.table import Table, join, MaskedColumn\n",
    "from astroquery.vizier import Vizier\n",
    "import warnings\n",
    "from astropy.logger import AstropyWarning\n",
    "warnings.filterwarnings('ignore', category=AstropyWarning)"
   ]
  },
  {
   "cell_type": "markdown",
   "metadata": {},
   "source": [
    "# Define Functions"
   ]
  },
  {
   "cell_type": "code",
   "execution_count": 2,
   "metadata": {},
   "outputs": [],
   "source": [
    "def get_data(catalog, join_key='Name', join_type='inner'):\n",
    "\n",
    "    \"\"\"\n",
    "    PURPOSE:    Get data from literature with Vizier\n",
    "\n",
    "    INPUT:      catalog = ctalog name on Vizier (str)\n",
    "                join_key = column header to join tables, if multiple (str; optional)\n",
    "                join_type = way to join tables, if multiple (str; optional)\n",
    "\n",
    "    OUTPUT:     t = data table (AstroPy Table)\n",
    "\n",
    "    \"\"\"\n",
    "\n",
    "    ### GET FULL CATALOG (ALL COLUMNS, ALL ROWS)\n",
    "    viz = Vizier(catalog=catalog, columns=['**'])\n",
    "    viz.ROW_LIMIT = -1\n",
    "    tv = viz.get_catalogs(catalog)\n",
    "\n",
    "    ### IF MULTIPLE TABLES, JOIN THEN\n",
    "    for i, val in enumerate(tv.keys()):\n",
    "        if i == 0:\n",
    "            t = tv[val]\n",
    "        else:\n",
    "            tt = tv[val]\n",
    "            if join_key in tt.columns:\n",
    "                t = join(t, tt, join_type=join_type, keys=join_key)\n",
    "\n",
    "    return t"
   ]
  },
  {
   "cell_type": "code",
   "execution_count": 3,
   "metadata": {},
   "outputs": [],
   "source": [
    "def calc_sep(ra1, de1, dist1, ra2, de2, dist2):\n",
    "\n",
    "    \"\"\"\n",
    "    PURPOSE:    Calculate separation between two objects in 2D and 3D space\n",
    "\n",
    "    INPUT:      ra, de = RA, DE of object in degrees (AstroPy coordinates)\n",
    "                dist = distance of object in parsecs (AstroPy units)\n",
    "\n",
    "    OUTPUT:     sep.arcsec = projected (2D) separation in arcseconds (float)\n",
    "                dis.pc = 3D separation in parsecs (float)\n",
    "\n",
    "    \"\"\"\n",
    "\n",
    "    ### 2D & 3D COORDINATES FOR OBJECT 2\n",
    "    c2d2 = SkyCoord(ra=ra2, dec=de2, frame='icrs')\n",
    "    c3d2 = SkyCoord(ra=ra2, dec=de2, distance=dist2, frame='icrs')\n",
    "\n",
    "    ### SEPARATION IN ARCSEC FROM 2D COORDINATES OF OBJECT\n",
    "    c2d1 = SkyCoord(ra=ra1, dec=de1, frame='icrs')\n",
    "    sep = c2d2.separation(c2d1)\n",
    "\n",
    "    ### SEPARATION IN PARSEC FROM 3D COORDINATES OF OBJECT\n",
    "    c3d1 = SkyCoord(ra=ra1, dec=de1, frame='icrs', distance=dist1)\n",
    "    dis = c3d2.separation_3d(c3d1)\n",
    "\n",
    "    return sep.arcsec, dis.pc"
   ]
  },
  {
   "cell_type": "markdown",
   "metadata": {},
   "source": [
    "# Code"
   ]
  },
  {
   "cell_type": "markdown",
   "metadata": {},
   "source": [
    "Load in Sigma Orionis data"
   ]
  },
  {
   "cell_type": "code",
   "execution_count": 4,
   "metadata": {},
   "outputs": [],
   "source": [
    "T = get_data(\"J/AJ/153/240\")"
   ]
  },
  {
   "cell_type": "markdown",
   "metadata": {},
   "source": [
    "Get separations"
   ]
  },
  {
   "cell_type": "code",
   "execution_count": 5,
   "metadata": {},
   "outputs": [],
   "source": [
    "r_AS, r_PC = [], []\n",
    "for i, val in enumerate(T['__HHM2007_']):\n",
    "\n",
    "    ### GET ASTROPY COORDS OF THIS OBJECT\n",
    "    coord = SkyCoord(str(T['RAJ2000'][i])+' '+str(T['DEJ2000'][i]), unit=(u.hourangle, u.deg))\n",
    "\n",
    "    ### CALCULATE SEPARATION FROM SIGMA ORI SYSTEM\n",
    "    ras, rpc = calc_sep(coord.ra, coord.dec, 385.*u.pc, 84.68658*u.degree, -2.60003*u.degree, 385.*u.pc)\n",
    "\n",
    "    ### SAVE OUTPUT\n",
    "    r_AS.append(str(Decimal(str(ras)).quantize(Decimal('.01'), rounding=ROUND_UP)))\n",
    "    r_PC.append(str(Decimal(str(rpc)).quantize(Decimal('.01'), rounding=ROUND_UP)))"
   ]
  },
  {
   "cell_type": "markdown",
   "metadata": {},
   "source": [
    "Save table"
   ]
  },
  {
   "cell_type": "code",
   "execution_count": 6,
   "metadata": {},
   "outputs": [],
   "source": [
    "TD = Table()\n",
    "TD['__HHM2007_'] = np.copy(T['__HHM2007_'])\n",
    "TD.add_column(MaskedColumn(name='R_as', data=r_AS))\n",
    "TD.add_column(MaskedColumn(name='R_pc', data=r_PC))\n",
    "TD.write('../output/sep_OB.txt', format='ascii.ipac')"
   ]
  }
 ],
 "metadata": {
  "kernelspec": {
   "display_name": "Python 3",
   "language": "python",
   "name": "python3"
  },
  "language_info": {
   "codemirror_mode": {
    "name": "ipython",
    "version": 3
   },
   "file_extension": ".py",
   "mimetype": "text/x-python",
   "name": "python",
   "nbconvert_exporter": "python",
   "pygments_lexer": "ipython3",
   "version": "3.9.13"
  },
  "orig_nbformat": 4
 },
 "nbformat": 4,
 "nbformat_minor": 2
}
