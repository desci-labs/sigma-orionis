{
 "cells": [
  {
   "cell_type": "markdown",
   "metadata": {},
   "source": [
    "# Import Packages"
   ]
  },
  {
   "cell_type": "code",
   "execution_count": null,
   "metadata": {},
   "outputs": [],
   "source": [
    "import os, sys, pdb, glob\n",
    "import numpy as np\n",
    "import matplotlib.pyplot as plt\n",
    "from astropy.table import Table, join, MaskedColumn\n",
    "import matplotlib as mpl\n",
    "from astropy import constants as const\n",
    "from astropy import units as u\n",
    "from scipy.stats import spearmanr, linregress\n",
    "from matplotlib.ticker import MaxNLocator\n",
    "import matplotlib.patches as mpatches\n",
    "from matplotlib.patches import FancyBboxPatch\n",
    "from astroquery.vizier import Vizier\n",
    "import warnings\n",
    "from astropy.logger import AstropyWarning\n",
    "warnings.filterwarnings('ignore', category=AstropyWarning)"
   ]
  },
  {
   "cell_type": "markdown",
   "metadata": {},
   "source": [
    "# Define Functions"
   ]
  },
  {
   "cell_type": "code",
   "execution_count": null,
   "metadata": {},
   "outputs": [],
   "source": [
    "def get_data(catalog, join_key='Name', join_type='inner'):\n",
    "\n",
    "    \"\"\"\n",
    "    PURPOSE:    Get data from literature with Vizier\n",
    "\n",
    "    INPUT:      catalog = ctalog name on Vizier (str)\n",
    "                join_key = column header to join tables, if multiple (str; optional)\n",
    "                join_type = way to join tables, if multiple (str; optional)\n",
    "\n",
    "    OUTPUT:     t = data table (AstroPy Table)\n",
    "\n",
    "    \"\"\"\n",
    "\n",
    "    ### GET FULL CATALOG (ALL COLUMNS, ALL ROWS)\n",
    "    viz = Vizier(catalog=catalog, columns=['**'])\n",
    "    viz.ROW_LIMIT = -1\n",
    "    tv = viz.get_catalogs(catalog)\n",
    "\n",
    "    ### IF MULTIPLE TABLES, JOIN THEN\n",
    "    for i, val in enumerate(tv.keys()):\n",
    "        if i == 0:\n",
    "            t = tv[val]\n",
    "        else:\n",
    "            tt = tv[val]\n",
    "            if join_key in tt.columns:\n",
    "                t = join(t, tt, join_type=join_type, keys=join_key)\n",
    "\n",
    "    return t"
   ]
  },
  {
   "cell_type": "code",
   "execution_count": null,
   "metadata": {},
   "outputs": [],
   "source": [
    "def get_model_grid_old(f):\n",
    "\n",
    "    ### LOAD FILE FROM WILLIAMS & BEST 2014 (2014ApJ...788...59W)\n",
    "    gasgrid = Table.read(f, format='ascii.csv')\n",
    "\n",
    "    ### LOAD RELEVANT MODEL OUTPUTS\n",
    "    gasgrid['M_gas'].name = 'Mgas'\n",
    "    gasgrid['f_2-1_13co'].name = 'F13CO21'\n",
    "    gasgrid['f_2-1_12co'].name = 'F12CO21'\n",
    "\n",
    "    ### REMOVE MASKED VALUES (1 BAD END-OF-LINE IN GRID FROM JPW)\n",
    "    gasgrid = gasgrid[np.where(~gasgrid['F13CO21'].mask)]\n",
    "    gasgrid = gasgrid[np.where(~gasgrid['F12CO21'].mask)]\n",
    "\n",
    "    return gasgrid['M_star', 'Mgas', 'gamma', 'R_c', 'T_m1', 'T_a1','q', 'incl', 'F13CO21', 'F12CO21']"
   ]
  },
  {
   "cell_type": "code",
   "execution_count": null,
   "metadata": {},
   "outputs": [],
   "source": [
    "def get_cal_err(f, e, e_cal=0.10):\n",
    "\n",
    "    \"\"\"\n",
    "    PURPOSE:    Calculate multiplication factor for adding \n",
    "                calibration error to flux measurement error\n",
    "                (assumed to be 10% unless otherwise specified)\n",
    "\n",
    "    INPUT:      f = measured flux (float)\n",
    "                e = measurement error (float)\n",
    "                e_cal = calibration error fraction (float; optional)\n",
    "\n",
    "    OUTPUT:     Multiplication factor for adding calibration error\n",
    "\n",
    "    \"\"\"\n",
    "\n",
    "    mult = np.sqrt((f * e_cal)**2 + (e)**2)\n",
    "\n",
    "    return mult"
   ]
  },
  {
   "cell_type": "code",
   "execution_count": null,
   "metadata": {},
   "outputs": [],
   "source": [
    "def get_model_idx(g13, g12, f13, e13, f12, e12, d13, d12):\n",
    "\n",
    "    \"\"\"\n",
    "    PURPOSE:    Index model grid points for a given flux measurement \n",
    "\n",
    "    INPUT:      g13 = model grid points for 13CO flux\n",
    "                g18_hi = model grid points for C18O flux (ISM abundance)\n",
    "                g18_lo = model grid points for C18O flux (low abundance)\n",
    "                f13 = 13CO flux measurement (float)\n",
    "                e13 = 13CO flux measurement error(float)\n",
    "                f18 = C18O flux measurement (float)\n",
    "                e18 = C18O flux measurement error(float)\n",
    "                d13 = detection flags for 13CO flux (masked array)\n",
    "                d18 = detection flags for C18O flux (masked array)\n",
    "\n",
    "    OUTPUT:     ifit = indexes of model grid\n",
    "                inote = note indicating type of detection\n",
    "\n",
    "    \"\"\"\n",
    "\n",
    "    ### IF BOTH LINES DETECTED DETECTED\n",
    "    ### INDEX GRID WITHIN ERRORS (MEASUREMENT + FLUX CAL)\n",
    "    if (d13 == True) and (d12 == True):\n",
    "        i13 = ( abs(g13 - f13)  < get_cal_err(f13, e13) )\n",
    "        i12 = ( abs(g12 - f12)  < get_cal_err(f12, e12) )\n",
    "        inote = \"GD\"\n",
    "\n",
    "    ### IF ONLY 12CO DETECTED\n",
    "    ### INDEX GRID WITHIN UPPER LIMIT FOR 13CO\n",
    "    elif (d12 == True) and (d13 == False):\n",
    "        i12 = (abs(g12 - f12) < get_cal_err(f12, e12) )\n",
    "        i13 = (g13 < f13)\n",
    "        inote = \"D12\"\n",
    "\n",
    "    ### IF BOTH LINES UNDETECTED\n",
    "    ### INDEX GRID WITHIN UPPER LIMITS FOR BOTH\n",
    "    elif (d12 == False) and (d13 == False):\n",
    "        i13 = (g13 < f13)\n",
    "        i12 = (g12 < f12)\n",
    "        inote = \"ND\"\n",
    "\n",
    "    ### STEP CODE IF UNKNOWN RESULT\n",
    "    else:\n",
    "        print(\"Unknown result\")\n",
    "        pdb.set_trace()\n",
    "\n",
    "    ### KEEP ONLY THOSE IN BOTH LINES\n",
    "    ### I.E., CREATING BOX AROUND MEASUREMENT OR UPPER LIMIT\n",
    "    ifit = i13 & i12\n",
    "\n",
    "    return ifit, inote"
   ]
  },
  {
   "cell_type": "code",
   "execution_count": null,
   "metadata": {},
   "outputs": [],
   "source": [
    "def get_model_gasmass(gm, ifit, inote):\n",
    "\n",
    "    \"\"\"\n",
    "    PURPOSE:    Get gas mass from model grid \n",
    "\n",
    "    INPUT:      gm = all gas masses from model grid \n",
    "                ifit = model grid indexes for a given flux measurement\n",
    "                inote = note indicating type of detection\n",
    "\n",
    "    OUTPUT:     mgas_fit = gas mass based on model fit\n",
    "                mgas_min = lower limti of gas mass based on model fit\n",
    "                mgas_max = upper limit of gas mass based on model fit\n",
    "                mgas_note = note indicating type of gas mass estimate\n",
    "    \"\"\"\n",
    "\n",
    "    nfit = np.count_nonzero(ifit)\n",
    "    if (nfit > 0):\n",
    "        \n",
    "        mgasfit = gm[ifit]\n",
    "\n",
    "        ### BOTH LINES DETECTED\n",
    "        if (d13==True) and (d12==True):\n",
    "            mgas_fit = 10**np.mean(np.log10(mgasfit))\n",
    "            mgas_min, mgas_max = np.min(mgasfit), np.max(mgasfit)\n",
    "            mgas_note = \"GF\"\n",
    "\n",
    "        ### ONLY 12CO DETECTED\n",
    "        elif (d12==True) and (d13==False):\n",
    "            mgas_fit = 10**np.mean(np.log10(mgasfit))\n",
    "            mgas_min, mgas_max = np.min(mgasfit), np.max(mgasfit)\n",
    "            mgas_note = \"GL\"\n",
    "\n",
    "        ### BOTH LINES UNDETECTED\n",
    "        elif (d13==False) and (d12==False):\n",
    "            mgas_fit = -99.0\n",
    "            mgas_min, mgas_max = np.min(mgasfit), np.max(mgasfit)\n",
    "            mgas_note = \"UL\"\n",
    "\n",
    "        ### STOP CODE IF UNKNOWN RESULT\n",
    "        else:\n",
    "            print(\"Unknown flux measurement result\")\n",
    "            pdb.set_trace()\n",
    "                  \n",
    "    else:\n",
    "\n",
    "        ### STOP CODE IF NO MATCHES TO MODEL GRID\n",
    "        print(\"No matches to model grid\")\n",
    "        pdb.set_trace()\n",
    "\n",
    "    ### COMBINE NOTES\n",
    "    mgas_note = (', ').join([inote, mgas_note])\n",
    "                            \n",
    "    return mgas_fit, mgas_min, mgas_max, mgas_note"
   ]
  },
  {
   "cell_type": "code",
   "execution_count": null,
   "metadata": {},
   "outputs": [],
   "source": [
    "def get_gasmass(g, f13, e13, d13, f12, e12, d12):\n",
    "\n",
    "    \"\"\"\n",
    "    PURPOSE:    Calculate gas mass\n",
    "\n",
    "    INPUT:      g = model grid \n",
    "                f13 = 13CO flux measurement (float)\n",
    "                e13 = 13CO flux measurement error(float)\n",
    "                d13 = detection flags for 13CO flux (masked array)\n",
    "                f12 = 12CO flux measurement (float)\n",
    "                e12 = 12CO flux measurement error(float)\n",
    "                d12 = detection flags for 12CO flux (masked array)\n",
    "\n",
    "    OUTPUT:     mg_fit = gas mass based on model fit\n",
    "                mgas_min = lower limti of gas mass based on model fit\n",
    "                mgas_max = upper limit of gas mass based on model fit\n",
    "                mgas_note = note indicating type of gas mass estimate\n",
    "    \"\"\"\n",
    "\n",
    "    ### INDEX MODEL GRID FOR THIS FLUX MEASUREMENT\n",
    "    i_fit, i_note = get_model_idx(g['F13CO21'], g['F12CO21'], f13, e13, f12, e12, d13, d12)\n",
    "\n",
    "    ### CALCULATE GAS MASS\n",
    "    mgas_fit, mgas_lo, mgas_hi, mgas_note = get_model_gasmass(g['Mgas'], i_fit, i_note)\n",
    "    \n",
    "    return mgas_fit, mgas_lo, mgas_hi, mgas_note"
   ]
  },
  {
   "cell_type": "markdown",
   "metadata": {},
   "source": [
    "# Code"
   ]
  },
  {
   "cell_type": "markdown",
   "metadata": {},
   "source": [
    "Load in Sigma Orionis data"
   ]
  },
  {
   "cell_type": "code",
   "execution_count": null,
   "metadata": {},
   "outputs": [],
   "source": [
    "T = get_data(\"J/AJ/153/240\")\n",
    "### T[['__HHM2007_','F12CO','e_F12CO','l_F12CO','F13CO','e_F13CO','l_F13CO']]"
   ]
  },
  {
   "cell_type": "markdown",
   "metadata": {},
   "source": [
    "Load gas model grid from [Williams & Best 2014](10.1088/0004-637X/788/1/59) (2014ApJ...788...59W)"
   ]
  },
  {
   "cell_type": "code",
   "execution_count": null,
   "metadata": {},
   "outputs": [],
   "source": [
    "# G = get_model_grid('../input/apj495435t3_mrt.txt')\n",
    "G = get_model_grid_old('../data/gasgrid.csv')"
   ]
  },
  {
   "cell_type": "markdown",
   "metadata": {},
   "source": [
    "Get gas masses"
   ]
  },
  {
   "cell_type": "code",
   "execution_count": null,
   "metadata": {},
   "outputs": [],
   "source": [
    "mg_f, mg_m, mg_l, mg_h, mg_n = [], [], [], [], []\n",
    "for i, val in enumerate(T['__HHM2007_']):\n",
    "\n",
    "    ### GET GAS FLUXES IN JY, SCALED TO 140 PC TO MATCH MODEL GRID\n",
    "    f2l = (385. / 140.)**2 / 1000.0\n",
    "    f13, e13 = f2l * T['F13CO'][i], f2l * T['e_F13CO'][i]\n",
    "    f12, e12 = f2l * T['F12CO'][i], f2l * T['e_F12CO'][i]\n",
    "\n",
    "    ### FLAG (NON-)DETECTIONS \n",
    "    d13 = T['l_F13CO'][i] != '<'\n",
    "    d12 = T['l_F12CO'][i] != '<'\n",
    "\n",
    "    ### CALCULATE GAS MASSES\n",
    "    mgf, mgl, mgh, mgn = get_gasmass(G, f13, e13, d13, f12, e12, d12)\n",
    "\n",
    "    ### SAVE GAS MASSES (M_JUP), LIMITS, AND FLAGS\n",
    "    ### WEIRD ROUNDING / FORMATTING IS TO MATCH OUTPUT IN PAPER\n",
    "    if mgn == 'ND, UL':\n",
    "        mg_n.append('<')\n",
    "        mg_f.append(float(\"{0:.2e}\".format(-99.)))\n",
    "        mg_l.append(float(\"{0:.2e}\".format(-99.)))\n",
    "        mg_h.append(round(float(\"{0:.2e}\".format(mgh))*(const.M_sun.cgs/const.M_jup.cgs).value, 1))\n",
    "\n",
    "    elif mgn == 'D12, GL':\n",
    "        mg_n.append('<')\n",
    "        mg_f.append(float(\"{0:.2e}\".format(-99.)))\n",
    "        mg_h.append(round(float(\"{0:.2e}\".format(mgh))*(const.M_sun.cgs/const.M_jup.cgs).value, 1))\n",
    "        mg_l.append(float(\"{0:.2e}\".format(-99.)))\n",
    "\n",
    "    elif mgn == 'GD, GF':\n",
    "        mg_n.append('')\n",
    "        mg_f.append(round(float(\"{0:.2e}\".format(mgf))*(const.M_sun.cgs/const.M_jup.cgs).value, 1))\n",
    "        mg_l.append(round(float(\"{0:.2e}\".format(mgl))*(const.M_sun.cgs/const.M_jup.cgs).value, 1))\n",
    "        mg_h.append(round(float(\"{0:.2e}\".format(mgh))*(const.M_sun.cgs/const.M_jup.cgs).value, 1))\n",
    "\n",
    "    else:\n",
    "        print(\"Unknown gas mass result\")\n",
    "        pdb.set_trace()"
   ]
  },
  {
   "cell_type": "markdown",
   "metadata": {},
   "source": [
    "Output gas masses\n",
    "\n",
    "NOTE: 1327 & 936 are different from the paper.\n",
    "\n",
    "Differences in gas mass from paper are likely due to rounding of flux in paper + paper fluxes used for this calcunation"
   ]
  },
  {
   "cell_type": "code",
   "execution_count": null,
   "metadata": {},
   "outputs": [],
   "source": [
    "TG = Table()\n",
    "TG['__HHM2007_'] = np.copy(T['__HHM2007_'])\n",
    "TG.add_column(MaskedColumn(name='l_Mgas', data=mg_n))\n",
    "TG.add_column(MaskedColumn(name='Mgas', data=mg_f, mask=[x==-99.0 for x in mg_f]))\n",
    "TG.add_column(MaskedColumn(name='b_Mgas', data=mg_l, mask=[x==-99.0 for x in mg_l]))\n",
    "TG.add_column(MaskedColumn(name='B_Mgas', data=mg_h, mask=[x==-99.0 for x in mg_h]))\n",
    "TG.write('../output/gasmasses.txt', format='ascii.ipac')"
   ]
  }
 ],
 "metadata": {
  "kernelspec": {
   "display_name": "Python 3",
   "language": "python",
   "name": "python3"
  },
  "language_info": {
   "codemirror_mode": {
    "name": "ipython",
    "version": 3
   },
   "file_extension": ".py",
   "mimetype": "text/x-python",
   "name": "python",
   "nbconvert_exporter": "python",
   "pygments_lexer": "ipython3",
   "version": "3.9.13"
  },
  "orig_nbformat": 4
 },
 "nbformat": 4,
 "nbformat_minor": 2
}
